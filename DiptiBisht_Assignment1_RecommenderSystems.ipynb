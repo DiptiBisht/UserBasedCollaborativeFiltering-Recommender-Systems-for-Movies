{
 "cells": [
  {
   "cell_type": "markdown",
   "id": "92cc3167",
   "metadata": {},
   "source": [
    "### Installing Scikit-Surprise"
   ]
  },
  {
   "cell_type": "code",
   "execution_count": 1,
   "id": "c24e5e31",
   "metadata": {},
   "outputs": [
    {
     "name": "stdout",
     "output_type": "stream",
     "text": [
      "Requirement already satisfied: scikit-surprise in c:\\users\\dipti\\anaconda3\\lib\\site-packages (1.1.3)\n",
      "Requirement already satisfied: numpy>=1.17.3 in c:\\users\\dipti\\anaconda3\\lib\\site-packages (from scikit-surprise) (1.22.4)\n",
      "Requirement already satisfied: joblib>=1.0.0 in c:\\users\\dipti\\anaconda3\\lib\\site-packages (from scikit-surprise) (1.1.0)\n",
      "Requirement already satisfied: scipy>=1.3.2 in c:\\users\\dipti\\anaconda3\\lib\\site-packages (from scikit-surprise) (1.7.3)\n",
      "Note: you may need to restart the kernel to use updated packages.\n"
     ]
    }
   ],
   "source": [
    "pip install scikit-surprise"
   ]
  },
  {
   "cell_type": "markdown",
   "id": "f8b30b7a",
   "metadata": {},
   "source": [
    "### Importing Packages"
   ]
  },
  {
   "cell_type": "code",
   "execution_count": null,
   "id": "dedc4e3f",
   "metadata": {},
   "outputs": [],
   "source": [
    "import os\n",
    "from surprise.model_selection import cross_validate\n",
    "import numpy as np\n",
    "import pandas as pd\n",
    "from surprise import Dataset, Reader\n",
    "from surprise.model_selection import train_test_split"
   ]
  },
  {
   "cell_type": "markdown",
   "id": "dc5ed07f",
   "metadata": {},
   "source": [
    "### Dataset. \n",
    "\n",
    "Movie Ratings Data from MovieLens\n",
    "\n",
    "In this collection we have a list of users with their correspondent features: \n",
    "- User IDs\n",
    "- Movie IDs\n",
    "- Ratings\n",
    "- Timestamps"
   ]
  },
  {
   "cell_type": "markdown",
   "id": "23b34619",
   "metadata": {},
   "source": [
    "### Data Preprocessing"
   ]
  },
  {
   "cell_type": "code",
   "execution_count": 74,
   "id": "45af29c8",
   "metadata": {},
   "outputs": [
    {
     "data": {
      "text/html": [
       "<div>\n",
       "<style scoped>\n",
       "    .dataframe tbody tr th:only-of-type {\n",
       "        vertical-align: middle;\n",
       "    }\n",
       "\n",
       "    .dataframe tbody tr th {\n",
       "        vertical-align: top;\n",
       "    }\n",
       "\n",
       "    .dataframe thead th {\n",
       "        text-align: right;\n",
       "    }\n",
       "</style>\n",
       "<table border=\"1\" class=\"dataframe\">\n",
       "  <thead>\n",
       "    <tr style=\"text-align: right;\">\n",
       "      <th></th>\n",
       "      <th>userId</th>\n",
       "      <th>movieId</th>\n",
       "      <th>rating</th>\n",
       "      <th>timestamp</th>\n",
       "    </tr>\n",
       "  </thead>\n",
       "  <tbody>\n",
       "    <tr>\n",
       "      <th>0</th>\n",
       "      <td>1</td>\n",
       "      <td>1</td>\n",
       "      <td>4.0</td>\n",
       "      <td>964982703</td>\n",
       "    </tr>\n",
       "    <tr>\n",
       "      <th>1</th>\n",
       "      <td>1</td>\n",
       "      <td>3</td>\n",
       "      <td>4.0</td>\n",
       "      <td>964981247</td>\n",
       "    </tr>\n",
       "    <tr>\n",
       "      <th>2</th>\n",
       "      <td>1</td>\n",
       "      <td>6</td>\n",
       "      <td>4.0</td>\n",
       "      <td>964982224</td>\n",
       "    </tr>\n",
       "    <tr>\n",
       "      <th>3</th>\n",
       "      <td>1</td>\n",
       "      <td>47</td>\n",
       "      <td>5.0</td>\n",
       "      <td>964983815</td>\n",
       "    </tr>\n",
       "    <tr>\n",
       "      <th>4</th>\n",
       "      <td>1</td>\n",
       "      <td>50</td>\n",
       "      <td>5.0</td>\n",
       "      <td>964982931</td>\n",
       "    </tr>\n",
       "  </tbody>\n",
       "</table>\n",
       "</div>"
      ],
      "text/plain": [
       "   userId  movieId  rating  timestamp\n",
       "0       1        1     4.0  964982703\n",
       "1       1        3     4.0  964981247\n",
       "2       1        6     4.0  964982224\n",
       "3       1       47     5.0  964983815\n",
       "4       1       50     5.0  964982931"
      ]
     },
     "execution_count": 74,
     "metadata": {},
     "output_type": "execute_result"
    }
   ],
   "source": [
    "# Loading the ratings.csv dataset\n",
    "df = pd.read_csv(\"C:/Users/dipti/Downloads/ml-latest-small/ml-latest-small/ratings.csv\")\n",
    "df.head()"
   ]
  },
  {
   "cell_type": "code",
   "execution_count": 75,
   "id": "6309766f",
   "metadata": {},
   "outputs": [],
   "source": [
    "reader = Reader(rating_scale = (1, 5))\n",
    "data = Dataset.load_from_df(df[['userId', 'movieId', 'rating']], reader)"
   ]
  },
  {
   "cell_type": "code",
   "execution_count": 76,
   "id": "6ea852d6",
   "metadata": {},
   "outputs": [],
   "source": [
    "trainset, testset = train_test_split(data, test_size = 0.2, train_size = 0.8)"
   ]
  },
  {
   "cell_type": "code",
   "execution_count": 77,
   "id": "4f7fcc41",
   "metadata": {},
   "outputs": [
    {
     "data": {
      "text/plain": [
       "(1, 5)"
      ]
     },
     "execution_count": 77,
     "metadata": {},
     "output_type": "execute_result"
    }
   ],
   "source": [
    "trainset.rating_scale"
   ]
  },
  {
   "cell_type": "code",
   "execution_count": 80,
   "id": "0025cb5c",
   "metadata": {},
   "outputs": [],
   "source": [
    "numitems = trainset.n_items"
   ]
  },
  {
   "cell_type": "code",
   "execution_count": 81,
   "id": "bd13f3d7",
   "metadata": {},
   "outputs": [],
   "source": [
    "numusers = trainset.n_users"
   ]
  },
  {
   "cell_type": "markdown",
   "id": "a5ba66cb",
   "metadata": {},
   "source": [
    "### Print number of items and users in the training set"
   ]
  },
  {
   "cell_type": "code",
   "execution_count": 82,
   "id": "332c32db",
   "metadata": {},
   "outputs": [
    {
     "name": "stdout",
     "output_type": "stream",
     "text": [
      "Number of items in training set: 8973\n",
      "Number of users in training set: 610\n"
     ]
    }
   ],
   "source": [
    "print(\"Number of items in training set:\", numitems)\n",
    "print(\"Number of users in training set:\", numusers)"
   ]
  },
  {
   "cell_type": "markdown",
   "id": "f16a464a",
   "metadata": {},
   "source": [
    "### Algorithm for User-based Collaborative Filtering System"
   ]
  },
  {
   "cell_type": "code",
   "execution_count": 83,
   "id": "4c8949e1",
   "metadata": {},
   "outputs": [],
   "source": [
    "from surprise import KNNBasic"
   ]
  },
  {
   "cell_type": "code",
   "execution_count": 84,
   "id": "1208b817",
   "metadata": {},
   "outputs": [
    {
     "name": "stdout",
     "output_type": "stream",
     "text": [
      "Computing the msd similarity matrix...\n",
      "Done computing similarity matrix.\n"
     ]
    },
    {
     "data": {
      "text/plain": [
       "<surprise.prediction_algorithms.knns.KNNBasic at 0x1a6a75a88e0>"
      ]
     },
     "execution_count": 84,
     "metadata": {},
     "output_type": "execute_result"
    }
   ],
   "source": [
    "# User Based Individual Recommender System\n",
    "sim_options = {\"name\": \"MSD\", \"user_based\": True, \"shrinkage\": 100}  # no shrinkage\n",
    "algo1 = KNNBasic(sim_options=sim_options)\n",
    "#algo = KNNBasic()\n",
    "algo1.fit(trainset)"
   ]
  },
  {
   "cell_type": "code",
   "execution_count": 85,
   "id": "008845b1",
   "metadata": {},
   "outputs": [
    {
     "name": "stdout",
     "output_type": "stream",
     "text": [
      "Computing the msd similarity matrix...\n",
      "Done computing similarity matrix.\n"
     ]
    },
    {
     "data": {
      "text/plain": [
       "<surprise.prediction_algorithms.knns.KNNBasic at 0x1a6a5b6cf40>"
      ]
     },
     "execution_count": 85,
     "metadata": {},
     "output_type": "execute_result"
    }
   ],
   "source": [
    "# Item Based Individual Recommender System\n",
    "from surprise import KNNBasic\n",
    "sim_options = {\"name\": \"MSD\", \"user_based\": False, \"shrinkage\": 100}  # no shrinkage\n",
    "algo2 = KNNBasic(sim_options=sim_options)\n",
    "#algo = KNNBasic()\n",
    "algo2.fit(trainset)"
   ]
  },
  {
   "cell_type": "code",
   "execution_count": 86,
   "id": "56e2b03b",
   "metadata": {},
   "outputs": [
    {
     "name": "stdout",
     "output_type": "stream",
     "text": [
      "RMSE: 0.9533\n"
     ]
    }
   ],
   "source": [
    "# Evaluate the model on test data\n",
    "from surprise import accuracy \n",
    "predictions = algo1.test(testset)\n",
    "RMSE = accuracy.rmse(predictions)"
   ]
  },
  {
   "cell_type": "code",
   "execution_count": 87,
   "id": "c64728e8",
   "metadata": {},
   "outputs": [
    {
     "name": "stdout",
     "output_type": "stream",
     "text": [
      "RMSE: 0.9184\n"
     ]
    }
   ],
   "source": [
    "# Evaluate the model\n",
    "from surprise import accuracy \n",
    "predictions = algo2.test(testset)\n",
    "RMSE = accuracy.rmse(predictions)"
   ]
  },
  {
   "cell_type": "markdown",
   "id": "6e8344a4",
   "metadata": {},
   "source": [
    "#### Observation:\n",
    "The RMSE score for Item-based Recommender System is <b>lower</b> than the User-based Recommender System, indicating better model performance\n",
    "\n",
    "- One way to improve recommender systems is to incorporate more data sources, such as social network data, browsing history, and search queries, to provide more accurate and diverse recommendations.\n",
    "- Another way is to use more sophisticated algorithms that can handle more complex data and provide more precise predictions. In addition, incorporating user feedback and preferences can help improve the accuracy of recommendations by providing a more personalized experience for the user. \n",
    "- Finally, regularly evaluating and testing the performance of the system can help identify any areas for improvement and ensure that the system continues to provide high-quality recommendations. By implementing these recommendations, recommender systems can provide even more accurate and personalized recommendations to users, improving the overall user experience."
   ]
  },
  {
   "cell_type": "markdown",
   "id": "a540eceb",
   "metadata": {},
   "source": [
    "### Bonus Task: Improving the Recommender System"
   ]
  },
  {
   "cell_type": "code",
   "execution_count": 88,
   "id": "c68dc9ba",
   "metadata": {},
   "outputs": [
    {
     "name": "stdout",
     "output_type": "stream",
     "text": [
      "Computing the cosine similarity matrix...\n",
      "Done computing similarity matrix.\n",
      "Computing the cosine similarity matrix...\n",
      "Done computing similarity matrix.\n"
     ]
    }
   ],
   "source": [
    "from surprise import KNNBasic, SVD, Dataset, Reader, model_selection\n",
    "\n",
    "# train a user-based KNN algorithm on the training set\n",
    "def train_user_based(trainset):\n",
    "    user_based_sim_options = {'name': 'cosine', 'user_based': True}\n",
    "    user_based_algo = KNNBasic(sim_options = user_based_sim_options)\n",
    "    user_based_algo.fit(trainset)\n",
    "    return user_based_algo\n",
    "\n",
    "# train an item-based KNN algorithm on the training set\n",
    "def train_item_based(trainset):\n",
    "    item_based_sim_options = {'name': 'cosine', 'user_based': False}\n",
    "    item_based_algo = KNNBasic(sim_options = item_based_sim_options)\n",
    "    item_based_algo.fit(trainset)\n",
    "    return item_based_algo\n",
    "\n",
    "# train an SVD algorithm on the training set\n",
    "def train_svd(trainset):\n",
    "    svd_algo = SVD()\n",
    "    svd_algo.fit(trainset)\n",
    "    return svd_algo\n",
    "\n",
    "# define a hybrid recommender system that combines the user-based and item-based KNN algorithms\n",
    "def hybrid_recommender(user_based_algo, item_based_algo, svd_algo):\n",
    "    def estimate(user_id, item_id):\n",
    "        user_based_rating = user_based_algo.predict(user_id, item_id).est\n",
    "        item_based_rating = item_based_algo.predict(user_id, item_id).est\n",
    "        svd_rating = svd_algo.predict(user_id, item_id).est\n",
    "        return (user_based_rating + item_based_rating + svd_rating) / 3\n",
    "    return estimate\n",
    "\n",
    "# train the algorithms on the training set\n",
    "user_based_algo = train_user_based(trainset)\n",
    "item_based_algo = train_item_based(trainset)\n",
    "svd_algo = train_svd(trainset)\n",
    "\n",
    "# create a hybrid recommender system function\n",
    "hybrid_algo = hybrid_recommender(user_based_algo, item_based_algo, svd_algo)\n",
    "\n",
    "# make predictions on the test set using the hybrid algorithm\n",
    "predictions = []\n",
    "for user_id, item_id, rating in testset:\n",
    "    predicted_rating = hybrid_algo(user_id, item_id)\n",
    "    predictions.append(predicted_rating)"
   ]
  },
  {
   "cell_type": "code",
   "execution_count": 89,
   "id": "7dab71ac",
   "metadata": {},
   "outputs": [
    {
     "name": "stdout",
     "output_type": "stream",
     "text": [
      "RMSE for Hybrid system: 0.8914867249029854\n"
     ]
    }
   ],
   "source": [
    "from sklearn.metrics import mean_squared_error\n",
    "\n",
    "# compute and print the RMSE score of the predictions\n",
    "rmse = np.sqrt(mean_squared_error([rating for user_id, item_id, rating in testset], predictions))\n",
    "print(\"RMSE for Hybrid system:\", rmse)"
   ]
  },
  {
   "cell_type": "markdown",
   "id": "8c985cfd",
   "metadata": {},
   "source": [
    "### Comparing performance of Hybrid and Individual Recommender Systems\n",
    "#### RMSE Scores for the systems:\n",
    "- RMSE Score for the Individual User-Based Recommender System: 0.9533\n",
    "- RMSE Score for the Individual Item-Based Recommender System: 0.9184\n",
    "- RMSE Score for the Hybrid Recommender System: 0.8914\n",
    "\n",
    "#### On observing the RMSE scores for all the systems implemented, it is clear that the Hybrid Recommender System has performed better than both the individual Recommender Systems as the RMSE Score of the former is lower than the latter, indicating that the Hybrid System is more reliable than the Individual Systems.\n",
    "\n",
    "The enhanced performance of the hybrid system is a result of the combination of the strengths of both the User-based and item-based algorithms. While the user-based algorithm captures user preferences and similarities effectively, the Item-based algorithm focuses on item similarities and characteristics. \n",
    "Through the integration of these two approaches with an SVD algorithm, the hybrid system delivers more precise recommendations by incorporating both user and item similarities."
   ]
  }
 ],
 "metadata": {
  "kernelspec": {
   "display_name": "Python 3 (ipykernel)",
   "language": "python",
   "name": "python3"
  },
  "language_info": {
   "codemirror_mode": {
    "name": "ipython",
    "version": 3
   },
   "file_extension": ".py",
   "mimetype": "text/x-python",
   "name": "python",
   "nbconvert_exporter": "python",
   "pygments_lexer": "ipython3",
   "version": "3.9.13"
  }
 },
 "nbformat": 4,
 "nbformat_minor": 5
}
